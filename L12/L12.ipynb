{
 "cells": [
  {
   "cell_type": "code",
   "execution_count": 2,
   "id": "6ce27382",
   "metadata": {},
   "outputs": [
    {
     "name": "stdout",
     "output_type": "stream",
     "text": [
      "0\n",
      "1\n",
      "2\n",
      "3\n",
      "4\n",
      "5\n",
      "6\n",
      "7\n",
      "8\n",
      "9\n",
      "10\n"
     ]
    }
   ],
   "source": [
    "def print_numbers():\n",
    "    for i in range(11):\n",
    "        print(i)\n",
    "print_numbers()"
   ]
  },
  {
   "cell_type": "code",
   "execution_count": 13,
   "id": "e2a3b612",
   "metadata": {},
   "outputs": [
    {
     "name": "stdout",
     "output_type": "stream",
     "text": [
      "0\n",
      "1\n",
      "2\n",
      "3\n",
      "4\n",
      "5\n",
      "6\n",
      "7\n",
      "8\n",
      "9\n"
     ]
    }
   ],
   "source": [
    "def print_numbers(n):\n",
    "    for i in range(n+1):\n",
    "        print(i)\n",
    "print_numbers(9)\n"
   ]
  },
  {
   "cell_type": "code",
   "execution_count": 14,
   "id": "bbebbb65",
   "metadata": {},
   "outputs": [
    {
     "name": "stdout",
     "output_type": "stream",
     "text": [
      "-1\n",
      "0\n",
      "1\n",
      "2\n",
      "3\n",
      "4\n",
      "5\n",
      "6\n"
     ]
    }
   ],
   "source": [
    "def print_numbers(a,b):\n",
    "    for i in range(a,b+1):\n",
    "        print(i)\n",
    "print_numbers(-1,6)"
   ]
  },
  {
   "cell_type": "code",
   "execution_count": 20,
   "id": "c7d8963f",
   "metadata": {},
   "outputs": [
    {
     "name": "stdout",
     "output_type": "stream",
     "text": [
      "0\n",
      "2\n",
      "4\n",
      "6\n"
     ]
    }
   ],
   "source": [
    "def print_numbers(a,b):\n",
    "    if a%2 == 0:\n",
    "        for i in range(a,2,b+1):\n",
    "            print(i)\n",
    "    else:\n",
    "         for i in range(a+1,b+1,2):\n",
    "            print(i)\n",
    "print_numbers(-1,6)"
   ]
  },
  {
   "cell_type": "code",
   "execution_count": 40,
   "id": "c212c28f",
   "metadata": {},
   "outputs": [
    {
     "name": "stdout",
     "output_type": "stream",
     "text": [
      "Yong\n",
      "Tim\n",
      "David\n",
      "Charles\n"
     ]
    }
   ],
   "source": [
    "num = [2,3,5,7,11,13,17,19,23,29]\n",
    "names=[\"Yong\",\"Tim\",\"David\",\"Charles\"]\n",
    "def print_lst(lst):\n",
    "    for i in range(len(lst)):\n",
    "        print (lst[i])\n",
    "print_lst(names)"
   ]
  },
  {
   "cell_type": "code",
   "execution_count": 32,
   "id": "307e96d7",
   "metadata": {},
   "outputs": [
    {
     "name": "stdout",
     "output_type": "stream",
     "text": [
      "Yong\n",
      "Tim\n"
     ]
    }
   ],
   "source": [
    "num = [2,3,5,7,11,13,17,19,23,29]\n",
    "names=[\"Yong\",\"Tim\",\"David\",\"Charles\"]\n",
    "def print_firsthalf_lst(lst):\n",
    "    for i in range(len(lst)//2):\n",
    "        print (lst[i])\n",
    "print_firsthalf_lst(names)"
   ]
  },
  {
   "cell_type": "code",
   "execution_count": 33,
   "id": "ca67321d",
   "metadata": {},
   "outputs": [
    {
     "name": "stdout",
     "output_type": "stream",
     "text": [
      "David\n",
      "Charles\n"
     ]
    }
   ],
   "source": [
    "num = [2,3,5,7,11,13,17,19,23,29]\n",
    "names=[\"Yong\",\"Tim\",\"David\",\"Charles\"]\n",
    "def print_sec_half_lst(lst):\n",
    "    for i in range(len(lst)//2,len(lst)):\n",
    "        print (lst[i])\n",
    "print_sec_half_lst(names)"
   ]
  },
  {
   "cell_type": "code",
   "execution_count": 39,
   "id": "e85bab14",
   "metadata": {},
   "outputs": [
    {
     "ename": "IndexError",
     "evalue": "list index out of range",
     "output_type": "error",
     "traceback": [
      "\u001b[1;31m---------------------------------------------------------------------------\u001b[0m",
      "\u001b[1;31mIndexError\u001b[0m                                Traceback (most recent call last)",
      "\u001b[1;32m<ipython-input-39-9d7dba4cdc9e>\u001b[0m in \u001b[0;36m<module>\u001b[1;34m\u001b[0m\n\u001b[0;32m      4\u001b[0m     \u001b[1;32mfor\u001b[0m \u001b[0mi\u001b[0m \u001b[1;32min\u001b[0m \u001b[0mrange\u001b[0m\u001b[1;33m(\u001b[0m\u001b[0mlen\u001b[0m\u001b[1;33m(\u001b[0m\u001b[0mlst\u001b[0m\u001b[1;33m)\u001b[0m\u001b[1;33m,\u001b[0m\u001b[1;33m-\u001b[0m\u001b[1;36m1\u001b[0m\u001b[1;33m,\u001b[0m\u001b[1;33m-\u001b[0m\u001b[1;36m1\u001b[0m\u001b[1;33m)\u001b[0m\u001b[1;33m:\u001b[0m\u001b[1;33m\u001b[0m\u001b[1;33m\u001b[0m\u001b[0m\n\u001b[0;32m      5\u001b[0m         \u001b[0mprint\u001b[0m \u001b[1;33m(\u001b[0m\u001b[0mlst\u001b[0m\u001b[1;33m[\u001b[0m\u001b[0mi\u001b[0m\u001b[1;33m]\u001b[0m\u001b[1;33m)\u001b[0m\u001b[1;33m\u001b[0m\u001b[1;33m\u001b[0m\u001b[0m\n\u001b[1;32m----> 6\u001b[1;33m \u001b[0mprint_lst_reserve\u001b[0m\u001b[1;33m(\u001b[0m\u001b[0mnames\u001b[0m\u001b[1;33m)\u001b[0m\u001b[1;33m\u001b[0m\u001b[1;33m\u001b[0m\u001b[0m\n\u001b[0m",
      "\u001b[1;32m<ipython-input-39-9d7dba4cdc9e>\u001b[0m in \u001b[0;36mprint_lst_reserve\u001b[1;34m(lst)\u001b[0m\n\u001b[0;32m      3\u001b[0m \u001b[1;32mdef\u001b[0m \u001b[0mprint_lst_reserve\u001b[0m\u001b[1;33m(\u001b[0m\u001b[0mlst\u001b[0m\u001b[1;33m)\u001b[0m\u001b[1;33m:\u001b[0m\u001b[1;33m\u001b[0m\u001b[1;33m\u001b[0m\u001b[0m\n\u001b[0;32m      4\u001b[0m     \u001b[1;32mfor\u001b[0m \u001b[0mi\u001b[0m \u001b[1;32min\u001b[0m \u001b[0mrange\u001b[0m\u001b[1;33m(\u001b[0m\u001b[0mlen\u001b[0m\u001b[1;33m(\u001b[0m\u001b[0mlst\u001b[0m\u001b[1;33m)\u001b[0m\u001b[1;33m,\u001b[0m\u001b[1;33m-\u001b[0m\u001b[1;36m1\u001b[0m\u001b[1;33m,\u001b[0m\u001b[1;33m-\u001b[0m\u001b[1;36m1\u001b[0m\u001b[1;33m)\u001b[0m\u001b[1;33m:\u001b[0m\u001b[1;33m\u001b[0m\u001b[1;33m\u001b[0m\u001b[0m\n\u001b[1;32m----> 5\u001b[1;33m         \u001b[0mprint\u001b[0m \u001b[1;33m(\u001b[0m\u001b[0mlst\u001b[0m\u001b[1;33m[\u001b[0m\u001b[0mi\u001b[0m\u001b[1;33m]\u001b[0m\u001b[1;33m)\u001b[0m\u001b[1;33m\u001b[0m\u001b[1;33m\u001b[0m\u001b[0m\n\u001b[0m\u001b[0;32m      6\u001b[0m \u001b[0mprint_lst_reserve\u001b[0m\u001b[1;33m(\u001b[0m\u001b[0mnames\u001b[0m\u001b[1;33m)\u001b[0m\u001b[1;33m\u001b[0m\u001b[1;33m\u001b[0m\u001b[0m\n",
      "\u001b[1;31mIndexError\u001b[0m: list index out of range"
     ]
    }
   ],
   "source": [
    "num = [2,3,5,7,11,13,17,19,23,29]\n",
    "names=[\"Yong\",\"Tim\",\"David\",\"Charles\"]\n",
    "def print_lst_reserve(lst):\n",
    "    for i in range(len(lst),-1,-1):\n",
    "        print (lst[i])\n",
    "print_lst_reserve(names)"
   ]
  },
  {
   "cell_type": "code",
   "execution_count": 74,
   "id": "dad57162",
   "metadata": {},
   "outputs": [
    {
     "ename": "SyntaxError",
     "evalue": "invalid syntax (<ipython-input-74-f0e6ef93e0c9>, line 4)",
     "output_type": "error",
     "traceback": [
      "\u001b[1;36m  File \u001b[1;32m\"<ipython-input-74-f0e6ef93e0c9>\"\u001b[1;36m, line \u001b[1;32m4\u001b[0m\n\u001b[1;33m    print round(lst[i],0)\u001b[0m\n\u001b[1;37m          ^\u001b[0m\n\u001b[1;31mSyntaxError\u001b[0m\u001b[1;31m:\u001b[0m invalid syntax\n"
     ]
    }
   ],
   "source": [
    "numbers = [0.3756278,3.1415926,8.3144]\n",
    "def print_lst_round(lst):\n",
    "    for i in range(len(lst)):\n",
    "        print round((lst[i]),0)\n",
    "rint_lst_round(numbers)"
   ]
  },
  {
   "cell_type": "code",
   "execution_count": 59,
   "id": "b32a8456",
   "metadata": {},
   "outputs": [
    {
     "name": "stdout",
     "output_type": "stream",
     "text": [
      "Carbon\n"
     ]
    }
   ],
   "source": [
    "a = [\"Chrome\",\"Helium\",\"Flourium\",\"Carbon\"]\n",
    "def print_element(lst,element):\n",
    "    for i in range(len(lst)):\n",
    "        if lst[i]==element:\n",
    "            print(lst[i])\n",
    "print_element(a,\"Carbon\")"
   ]
  },
  {
   "cell_type": "code",
   "execution_count": 63,
   "id": "89996a4f",
   "metadata": {},
   "outputs": [
    {
     "name": "stdout",
     "output_type": "stream",
     "text": [
      "Helium\n",
      "Flourium\n",
      "Carbon\n"
     ]
    }
   ],
   "source": [
    "chemical = [\"Chrome\",\"Helium\",\"Flourium\",\"Carbon\"]\n",
    "\n",
    "def print_element_bt(lst,a,b):\n",
    "    for i in range(a,b+1):\n",
    "        print(lst[i])\n",
    "print_element_bt(chemical,1,3)"
   ]
  },
  {
   "cell_type": "code",
   "execution_count": 62,
   "id": "44d8c73d",
   "metadata": {},
   "outputs": [
    {
     "name": "stdout",
     "output_type": "stream",
     "text": [
      "Chrome\n",
      "Flourium\n"
     ]
    }
   ],
   "source": [
    "chemical = [\"Chrome\",\"Helium\",\"Flourium\",\"Carbon\"]\n",
    "\n",
    "def print_even(lst):\n",
    "    for i in range(len(lst)):\n",
    "        if i %2 == 0:\n",
    "            print(lst[i])\n",
    "print_even(chemical)"
   ]
  },
  {
   "cell_type": "code",
   "execution_count": 68,
   "id": "80885d52",
   "metadata": {},
   "outputs": [
    {
     "name": "stdout",
     "output_type": "stream",
     "text": [
      "10\n"
     ]
    }
   ],
   "source": [
    "from random import randint\n",
    "def roll_die(sides)->int:\n",
    "    return randint(1,sides)\n",
    "x=roll_die(100)\n",
    "print(x)"
   ]
  },
  {
   "cell_type": "code",
   "execution_count": 73,
   "id": "8c2c57f0",
   "metadata": {},
   "outputs": [
    {
     "name": "stdout",
     "output_type": "stream",
     "text": [
      "True\n"
     ]
    }
   ],
   "source": [
    "def true_false (num):\n",
    "     return num == 6 \n",
    "x =true_false(6)\n",
    "print(x)"
   ]
  },
  {
   "cell_type": "code",
   "execution_count": 72,
   "id": "62f34366",
   "metadata": {},
   "outputs": [
    {
     "data": {
      "text/plain": [
       "False"
      ]
     },
     "execution_count": 72,
     "metadata": {},
     "output_type": "execute_result"
    }
   ],
   "source": [
    "a = [1,2,4,8,16,32,64,128,256]\n",
    "def if_is_in_list(lst,element):\n",
    "    for i in range(len(a)):\n",
    "        if a[i] == element:\n",
    "            return True\n",
    "    return False\n",
    "if_is_in_list(a,7)\n"
   ]
  },
  {
   "cell_type": "code",
   "execution_count": 76,
   "id": "dcc34ddb",
   "metadata": {},
   "outputs": [
    {
     "name": "stdout",
     "output_type": "stream",
     "text": [
      "4\n",
      "9\n",
      "25\n",
      "49\n",
      "121\n",
      "169\n",
      "289\n",
      "361\n",
      "529\n",
      "841\n"
     ]
    }
   ],
   "source": [
    "num = [2,3,5,7,11,13,17,19,23,29]\n",
    "def print_lst_square(lst):\n",
    "    for i in range(len(lst)):\n",
    "        print ((lst[i])**2)\n",
    "print_lst_square(num)"
   ]
  },
  {
   "cell_type": "code",
   "execution_count": null,
   "id": "fda3d056",
   "metadata": {},
   "outputs": [],
   "source": []
  }
 ],
 "metadata": {
  "kernelspec": {
   "display_name": "Python 3",
   "language": "python",
   "name": "python3"
  },
  "language_info": {
   "codemirror_mode": {
    "name": "ipython",
    "version": 3
   },
   "file_extension": ".py",
   "mimetype": "text/x-python",
   "name": "python",
   "nbconvert_exporter": "python",
   "pygments_lexer": "ipython3",
   "version": "3.8.8"
  }
 },
 "nbformat": 4,
 "nbformat_minor": 5
}
